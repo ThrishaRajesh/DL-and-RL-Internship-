{
 "cells": [
  {
   "cell_type": "code",
   "execution_count": null,
   "id": "e4fd01a3-1591-4c89-8256-4b833369a719",
   "metadata": {},
   "outputs": [],
   "source": [
    "'''\n",
    "x_in: one input vector (size 3)\n",
    "x_mat_in: matrix of 7 inputs (each row size 3)\n",
    "W_1, W_2, W_3: weight matrices between layers\n",
    "Activation: sigmoid for first two layers, softmax for output\n",
    "'''"
   ]
  },
  {
   "cell_type": "code",
   "execution_count": 1,
   "id": "73f14523-a986-463c-ab72-745ab906d73e",
   "metadata": {},
   "outputs": [],
   "source": [
    "#Import NumPy and Define Activation Functions\n",
    "\n",
    "import numpy as np\n",
    "\n",
    "# Sigmoid activation function (used in hidden layers)\n",
    "def sigmoid(x):\n",
    "    return 1 / (1 + np.exp(-x))\n",
    "\n",
    "# Softmax function for single vector\n",
    "def soft_max_vec(vec):\n",
    "    return np.exp(vec) / np.sum(np.exp(vec))\n",
    "\n",
    "# Softmax function for entire matrix (row-wise softmax)\n",
    "def soft_max_mat(mat):\n",
    "    return np.exp(mat) / np.sum(np.exp(mat), axis=1).reshape(-1, 1)"
   ]
  },
  {
   "cell_type": "code",
   "execution_count": 2,
   "id": "fe0728e6-ef1a-4068-8165-3f7caab0c00f",
   "metadata": {},
   "outputs": [],
   "source": [
    "#Forward Pass for a Single Input\n",
    "\n",
    "def forward_single_input(x, W_1, W_2, W_3):\n",
    "    # Input to Layer 1\n",
    "    z1 = np.dot(x, W_1)          # shape: (3,) · (3x4) => (4,)\n",
    "    a1 = sigmoid(z1)             # Apply sigmoid activation\n",
    "\n",
    "    # Input to Layer 2\n",
    "    z2 = np.dot(a1, W_2)         # shape: (4,) · (4x4) => (4,)\n",
    "    a2 = sigmoid(z2)             # Apply sigmoid again\n",
    "\n",
    "    # Input to Output Layer\n",
    "    z3 = np.dot(a2, W_3)         # shape: (4,) · (4x3) => (3,)\n",
    "    a3 = soft_max_vec(z3)        # Apply softmax to get class probabilities\n",
    "\n",
    "    return a3                    # Return final output (probabilities for 3 classes)"
   ]
  },
  {
   "cell_type": "code",
   "execution_count": 3,
   "id": "1c9dc272-f6e3-47d0-94e8-9e8cfcbf975a",
   "metadata": {},
   "outputs": [],
   "source": [
    "#Forward Pass for a Matrix of Inputs\n",
    "\n",
    "def forward_input_matrix(X, W_1, W_2, W_3):\n",
    "    # Layer 1\n",
    "    Z1 = np.dot(X, W_1)          # shape: (7x3) · (3x4) => (7x4)\n",
    "    A1 = sigmoid(Z1)             # Apply sigmoid element-wise\n",
    "\n",
    "    # Layer 2\n",
    "    Z2 = np.dot(A1, W_2)         # shape: (7x4) · (4x4) => (7x4)\n",
    "    A2 = sigmoid(Z2)             # Apply sigmoid element-wise\n",
    "\n",
    "    # Output Layer\n",
    "    Z3 = np.dot(A2, W_3)         # shape: (7x4) · (4x3) => (7x3)\n",
    "    A3 = soft_max_mat(Z3)        # Apply softmax row-wise\n",
    "\n",
    "    return A3                    # Return final output for all 7 inputs"
   ]
  },
  {
   "cell_type": "code",
   "execution_count": 4,
   "id": "0bc75587-bd4f-497a-ad2d-a8435c971d11",
   "metadata": {},
   "outputs": [
    {
     "name": "stdout",
     "output_type": "stream",
     "text": [
      "Output for single input x_in:\n",
      "[0.72780576 0.26927918 0.00291506]\n",
      "\n",
      "Output for matrix of inputs x_mat_in:\n",
      "[[0.72780576 0.26927918 0.00291506]\n",
      " [0.62054212 0.37682531 0.00263257]\n",
      " [0.69267581 0.30361576 0.00370844]\n",
      " [0.36618794 0.63016955 0.00364252]\n",
      " [0.57199769 0.4251982  0.00280411]\n",
      " [0.38373781 0.61163804 0.00462415]\n",
      " [0.52510443 0.4725011  0.00239447]]\n"
     ]
    }
   ],
   "source": [
    "#Test Everything\n",
    "\n",
    "# Given input vector\n",
    "x_in = np.array([0.5, 0.8, 0.2])\n",
    "\n",
    "# Matrix of 7 input vectors\n",
    "x_mat_in = np.array([\n",
    "    [0.5, 0.8, 0.2],\n",
    "    [0.1, 0.9, 0.6],\n",
    "    [0.2, 0.2, 0.3],\n",
    "    [0.6, 0.1, 0.9],\n",
    "    [0.5, 0.5, 0.4],\n",
    "    [0.9, 0.1, 0.9],\n",
    "    [0.1, 0.8, 0.7]\n",
    "])\n",
    "\n",
    "# Weight matrices\n",
    "W_1 = np.array([[2, -1, 1, 4], [-1, 2, -3, 1], [3, -2, -1, 5]])\n",
    "W_2 = np.array([[3, 1, -2, 1], [-2, 4, 1, -4], [-1, -3, 2, -5], [3, 1, 1, 1]])\n",
    "W_3 = np.array([[-1, 3, -2], [1, -1, -3], [3, -2, 2], [1, 2, 1]])\n",
    "\n",
    "# Test single input\n",
    "print(\"Output for single input x_in:\")\n",
    "print(forward_single_input(x_in, W_1, W_2, W_3))\n",
    "\n",
    "# Test all inputs\n",
    "print(\"\\nOutput for matrix of inputs x_mat_in:\")\n",
    "print(forward_input_matrix(x_mat_in, W_1, W_2, W_3))"
   ]
  },
  {
   "cell_type": "code",
   "execution_count": null,
   "id": "d3431dfd-15f5-4946-bb57-829196601603",
   "metadata": {},
   "outputs": [],
   "source": [
    "'''\n",
    "Each layer applies dot product of inputs and weights\n",
    "First 2 layers use sigmoid\n",
    "Last layer uses softmax for classification\n",
    "Vector vs matrix inputs handled by two different functions\n",
    "'''"
   ]
  }
 ],
 "metadata": {
  "kernelspec": {
   "display_name": "Python 3 (ipykernel)",
   "language": "python",
   "name": "python3"
  },
  "language_info": {
   "codemirror_mode": {
    "name": "ipython",
    "version": 3
   },
   "file_extension": ".py",
   "mimetype": "text/x-python",
   "name": "python",
   "nbconvert_exporter": "python",
   "pygments_lexer": "ipython3",
   "version": "3.12.7"
  }
 },
 "nbformat": 4,
 "nbformat_minor": 5
}
